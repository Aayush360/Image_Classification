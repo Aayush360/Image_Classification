{
 "cells": [
  {
   "cell_type": "code",
   "execution_count": 25,
   "metadata": {},
   "outputs": [],
   "source": [
    "import numpy as np\n",
    "import pandas as pd\n",
    "import scipy\n",
    "import sklearn\n",
    "from sklearn.pipeline import make_pipeline\n",
    "\n",
    "import os\n",
    "\n",
    "import skimage\n",
    "import skimage.color\n",
    "import skimage.transform\n",
    "import skimage.io\n",
    "import skimage.feature\n",
    "\n",
    "import pickle\n",
    "\n",
    "import matplotlib.pyplot as plt\n",
    "%matplotlib inline"
   ]
  },
  {
   "cell_type": "code",
   "execution_count": 4,
   "metadata": {},
   "outputs": [],
   "source": [
    "from sklearn.base import BaseEstimator, TransformerMixin"
   ]
  },
  {
   "cell_type": "code",
   "execution_count": 5,
   "metadata": {},
   "outputs": [],
   "source": [
    "class rgb2gray_transform(BaseEstimator,TransformerMixin):\n",
    "    import skimage.color\n",
    "    def __init__(self):\n",
    "        pass\n",
    "    def fit(self,X,y=None):\n",
    "        return self\n",
    "    def transform(self,X,y=None):\n",
    "        return np.array([skimage.color.rgb2gray(x) for x in X])"
   ]
  },
  {
   "cell_type": "code",
   "execution_count": 6,
   "metadata": {},
   "outputs": [],
   "source": [
    "class hogtransformer(BaseEstimator,TransformerMixin):\n",
    "    import skimage.feature\n",
    "    def __init__(self,orientations=9,pixels_per_cell=(8,8),cells_per_block=(3, 3)):\n",
    "        self.orientations=orientations\n",
    "        self.pixels_per_cell=pixels_per_cell\n",
    "        self.cells_per_block=cells_per_block\n",
    "    \n",
    "    def fit(self,X,y=None):\n",
    "        return self\n",
    "    def transform(self,X,y=None):\n",
    "        def local_hog(img):\n",
    "            hog_features= skimage.feature.hog(img,\n",
    "                               orientations=self.orientations,\n",
    "                               pixels_per_cell=self.pixels_per_cell,\n",
    "                               cells_per_block=self.cells_per_block)\n",
    "            return hog_features\n",
    "        \n",
    "        features = np.array([local_hog(x) for x in X])\n",
    "#         hog_images= np.array([local_hog(x) for x in X])\n",
    "        return features\n",
    "        "
   ]
  },
  {
   "cell_type": "markdown",
   "metadata": {},
   "source": [
    "## Pipeline Model"
   ]
  },
  {
   "cell_type": "code",
   "execution_count": 55,
   "metadata": {},
   "outputs": [],
   "source": [
    "# read the image\n",
    "image = skimage.io.imread('eagle.jpg')\n",
    "# transfrom image into 80x80\n",
    "image_resized = skimage.transform.resize(image,(80,80))\n",
    "# rescale\n",
    "rescaled_image = 255*image_resized\n",
    "\n",
    "image_transformed = rescaled_image.astype(np.uint8) # converting to 8 bit integer\n",
    "\n",
    "# rgb2gray \n",
    "gray = skimage.color.rgb2gray(image_transformed) # can use custom function as well\n",
    "# graify = rgb2gray_transform()\n",
    "# gray = graify.fit_transform(image_transformed)\n",
    "\n",
    "# hog feature (choosing best hyperparameter)\n",
    "\n",
    "hog_feature_vector = skimage.feature.hog(gray,\n",
    "                                  orientations=10, pixels_per_cell=(8,8),cells_per_block=(3,3))\n",
    "\n",
    "# hog = hogtransformer(orientations=8, pixels_per_cell=(8,8),cells_per_block=(3,3))\n",
    "# hog_feature_vector = hog.fit_transform(gray)\n",
    "\n"
   ]
  },
  {
   "cell_type": "code",
   "execution_count": 56,
   "metadata": {},
   "outputs": [
    {
     "data": {
      "text/plain": [
       "array([[0.01633377, 0.00198746, 0.03191212, ..., 0.02345522, 0.01844644,\n",
       "        0.00353701]])"
      ]
     },
     "execution_count": 56,
     "metadata": {},
     "output_type": "execute_result"
    }
   ],
   "source": [
    "hog_feature_vector.reshape(1,-1)"
   ]
  },
  {
   "cell_type": "code",
   "execution_count": 57,
   "metadata": {},
   "outputs": [
    {
     "data": {
      "text/plain": [
       "array([[[ 4, 17,  0],\n",
       "        [ 5, 18,  0],\n",
       "        [ 6, 19,  1],\n",
       "        ...,\n",
       "        [ 7, 18,  1],\n",
       "        [ 6, 17,  0],\n",
       "        [ 6, 16,  0]],\n",
       "\n",
       "       [[ 6, 20,  0],\n",
       "        [ 6, 20,  0],\n",
       "        [ 7, 22,  0],\n",
       "        ...,\n",
       "        [ 7, 18,  1],\n",
       "        [ 7, 16,  0],\n",
       "        [ 6, 15,  0]],\n",
       "\n",
       "       [[ 7, 22,  0],\n",
       "        [ 8, 23,  0],\n",
       "        [ 8, 24,  0],\n",
       "        ...,\n",
       "        [ 7, 17,  0],\n",
       "        [ 7, 15,  0],\n",
       "        [ 6, 14,  0]],\n",
       "\n",
       "       ...,\n",
       "\n",
       "       [[ 0,  7,  0],\n",
       "        [ 0,  6,  0],\n",
       "        [ 0,  6,  0],\n",
       "        ...,\n",
       "        [ 4,  6,  1],\n",
       "        [ 7,  8,  3],\n",
       "        [10,  9,  4]],\n",
       "\n",
       "       [[ 0,  7,  0],\n",
       "        [ 0,  6,  0],\n",
       "        [ 0,  6,  0],\n",
       "        ...,\n",
       "        [ 3,  5,  0],\n",
       "        [ 5,  6,  1],\n",
       "        [ 8,  9,  4]],\n",
       "\n",
       "       [[ 0,  7,  0],\n",
       "        [ 0,  7,  0],\n",
       "        [ 0,  7,  0],\n",
       "        ...,\n",
       "        [ 4,  6,  1],\n",
       "        [ 4,  5,  0],\n",
       "        [ 7,  7,  3]]], dtype=uint8)"
      ]
     },
     "execution_count": 57,
     "metadata": {},
     "output_type": "execute_result"
    }
   ],
   "source": [
    "#  rescaled_image  # float value messed all our image\n",
    "image_transformed"
   ]
  },
  {
   "cell_type": "code",
   "execution_count": 58,
   "metadata": {},
   "outputs": [],
   "source": [
    "## load the scaler model"
   ]
  },
  {
   "cell_type": "code",
   "execution_count": 51,
   "metadata": {},
   "outputs": [],
   "source": [
    "scaler = pickle.load(open('dsa_scaler.pickle','rb'))\n",
    "model = pickle.load(open('image_classification_sgd.pickle','rb'))"
   ]
  },
  {
   "cell_type": "code",
   "execution_count": 52,
   "metadata": {},
   "outputs": [
    {
     "data": {
      "text/plain": [
       "{'alpha': 0.01,\n",
       " 'average': False,\n",
       " 'class_weight': None,\n",
       " 'early_stopping': True,\n",
       " 'epsilon': 0.1,\n",
       " 'eta0': 0.0,\n",
       " 'fit_intercept': True,\n",
       " 'l1_ratio': 0.15,\n",
       " 'learning_rate': 'optimal',\n",
       " 'loss': 'squared_hinge',\n",
       " 'max_iter': 1000,\n",
       " 'n_iter_no_change': 5,\n",
       " 'n_jobs': None,\n",
       " 'penalty': 'l2',\n",
       " 'power_t': 0.5,\n",
       " 'random_state': None,\n",
       " 'shuffle': True,\n",
       " 'tol': 0.001,\n",
       " 'validation_fraction': 0.1,\n",
       " 'verbose': 0,\n",
       " 'warm_start': False}"
      ]
     },
     "execution_count": 52,
     "metadata": {},
     "output_type": "execute_result"
    }
   ],
   "source": [
    "model.get_params()"
   ]
  },
  {
   "cell_type": "code",
   "execution_count": 59,
   "metadata": {},
   "outputs": [],
   "source": [
    "scaled = scaler.transform(hog_feature_vector.reshape(1,-1))\n",
    "y_pred = model.predict(scaled)"
   ]
  },
  {
   "cell_type": "code",
   "execution_count": 60,
   "metadata": {},
   "outputs": [
    {
     "data": {
      "text/plain": [
       "array(['eagle'], dtype='<U8')"
      ]
     },
     "execution_count": 60,
     "metadata": {},
     "output_type": "execute_result"
    }
   ],
   "source": [
    "y_pred"
   ]
  },
  {
   "cell_type": "markdown",
   "metadata": {},
   "source": [
    "### Calculating the Probability"
   ]
  },
  {
   "cell_type": "code",
   "execution_count": 111,
   "metadata": {},
   "outputs": [],
   "source": [
    "# decision calculates the confidence socre for each class\n",
    "\n",
    "decision_value = model.decision_function(scaled)\n",
    "# decision_value = np.abs(decision_value)\n",
    "decision_value_scaled = decision_value/1e+12"
   ]
  },
  {
   "cell_type": "code",
   "execution_count": 112,
   "metadata": {},
   "outputs": [
    {
     "data": {
      "text/plain": [
       "array([[-216.3331827 , -199.48483375, -153.45888564, -114.94607211,\n",
       "        -263.32049121, -171.07003441,  -79.7158647 ,  -18.20185262,\n",
       "        -258.06633431, -182.93515082, -220.70402848, -121.18309559,\n",
       "        -294.4631485 , -222.56935518,  -96.43921628,  -32.27545148,\n",
       "        -235.95623085, -210.14286616, -148.10484027, -365.73817901]])"
      ]
     },
     "execution_count": 112,
     "metadata": {},
     "output_type": "execute_result"
    }
   ],
   "source": [
    "decision_value_scaled"
   ]
  },
  {
   "cell_type": "code",
   "execution_count": 118,
   "metadata": {},
   "outputs": [
    {
     "data": {
      "text/plain": [
       "array(['bear', 'cat', 'chicken', 'cow', 'deer', 'dog', 'duck', 'eagle',\n",
       "       'elephant', 'human', 'lion', 'monkey', 'mouse', 'natural', 'panda',\n",
       "       'pigeon', 'rabbit', 'sheep', 'tiger', 'wolf'], dtype='<U8')"
      ]
     },
     "execution_count": 118,
     "metadata": {},
     "output_type": "execute_result"
    }
   ],
   "source": [
    "labels = model.classes_\n",
    "labels"
   ]
  },
  {
   "cell_type": "code",
   "execution_count": 114,
   "metadata": {},
   "outputs": [],
   "source": [
    "decision_value=decision_value.flatten()"
   ]
  },
  {
   "cell_type": "code",
   "execution_count": 115,
   "metadata": {},
   "outputs": [
    {
     "data": {
      "text/plain": [
       "(array([-4.0e+14, -3.5e+14, -3.0e+14, -2.5e+14, -2.0e+14, -1.5e+14,\n",
       "        -1.0e+14, -5.0e+13,  0.0e+00]),\n",
       " <a list of 9 Text major ticklabel objects>)"
      ]
     },
     "execution_count": 115,
     "metadata": {},
     "output_type": "execute_result"
    },
    {
     "data": {
      "image/png": "[encoded data removed]",
      "text/plain": [
       "<Figure size 432x288 with 1 Axes>"
      ]
     },
     "metadata": {
      "needs_background": "light"
     },
     "output_type": "display_data"
    }
   ],
   "source": [
    "plt.barh(labels,decision_value,)\n",
    "plt.xticks(rotation=90)\n"
   ]
  },
  {
   "cell_type": "code",
   "execution_count": 116,
   "metadata": {},
   "outputs": [
    {
     "data": {
      "text/plain": [
       "array([-0.42461096, -0.22631705,  0.31537789,  0.7686482 , -0.97762047,\n",
       "        0.10810633,  1.18328442,  1.90726361, -0.91578252, -0.03153824,\n",
       "       -0.47605292,  0.69524256, -1.34414892, -0.49800658,  0.98646164,\n",
       "        1.74162667, -0.65556124, -0.35175503,  0.37839146, -2.18300884])"
      ]
     },
     "execution_count": 116,
     "metadata": {},
     "output_type": "execute_result"
    }
   ],
   "source": [
    "## calculate z-score\n",
    "\n",
    "z = scipy.stats.zscore(decision_value)\n",
    "z"
   ]
  },
  {
   "cell_type": "code",
   "execution_count": 117,
   "metadata": {},
   "outputs": [
    {
     "data": {
      "text/plain": [
       "array([0.020114  , 0.02452541, 0.04215717, 0.06633217, 0.01156989,\n",
       "       0.0342653 , 0.10041497, 0.20711837, 0.01230794, 0.02979941,\n",
       "       0.01910546, 0.06163744, 0.00801951, 0.01869059, 0.08247445,\n",
       "       0.17550254, 0.01596607, 0.02163412, 0.04489913, 0.00346606])"
      ]
     },
     "execution_count": 117,
     "metadata": {},
     "output_type": "execute_result"
    }
   ],
   "source": [
    "prob = scipy.special.softmax(z)\n",
    "prob"
   ]
  },
  {
   "cell_type": "code",
   "execution_count": 119,
   "metadata": {},
   "outputs": [
    {
     "data": {
      "image/png": "[encoded data removed]",
      "text/plain": [
       "<Figure size 432x288 with 1 Axes>"
      ]
     },
     "metadata": {
      "needs_background": "light"
     },
     "output_type": "display_data"
    }
   ],
   "source": [
    "plt.barh(labels,prob)\n",
    "plt.grid()"
   ]
  },
  {
   "cell_type": "code",
   "execution_count": 120,
   "metadata": {},
   "outputs": [],
   "source": [
    "## top-5 prob values"
   ]
  },
  {
   "cell_type": "code",
   "execution_count": 125,
   "metadata": {},
   "outputs": [
    {
     "data": {
      "text/plain": [
       "array([ 7, 15,  6, 14,  3])"
      ]
     },
     "execution_count": 125,
     "metadata": {},
     "output_type": "execute_result"
    }
   ],
   "source": [
    "top_5_prob_index = prob.argsort()[::-1][:5]\n",
    "top_5_prob_index"
   ]
  },
  {
   "cell_type": "code",
   "execution_count": 127,
   "metadata": {},
   "outputs": [],
   "source": [
    "top_labels = labels[top_5_prob_index]"
   ]
  },
  {
   "cell_type": "code",
   "execution_count": 128,
   "metadata": {},
   "outputs": [],
   "source": [
    "top_5_prob_values = prob[top_5_prob_index]"
   ]
  },
  {
   "cell_type": "code",
   "execution_count": 129,
   "metadata": {},
   "outputs": [
    {
     "data": {
      "text/plain": [
       "array([0.20711837, 0.17550254, 0.10041497, 0.08247445, 0.06633217])"
      ]
     },
     "execution_count": 129,
     "metadata": {},
     "output_type": "execute_result"
    }
   ],
   "source": [
    "top_5_prob_values"
   ]
  },
  {
   "cell_type": "code",
   "execution_count": 132,
   "metadata": {},
   "outputs": [],
   "source": [
    "top_dict = dict()\n",
    "for key,value in zip(top_labels,top_5_prob_values):\n",
    "    top_dict[key]=np.round(value,2)"
   ]
  },
  {
   "cell_type": "code",
   "execution_count": 133,
   "metadata": {},
   "outputs": [
    {
     "data": {
      "text/plain": [
       "{'eagle': 0.21, 'pigeon': 0.18, 'duck': 0.1, 'panda': 0.08, 'cow': 0.07}"
      ]
     },
     "execution_count": 133,
     "metadata": {},
     "output_type": "execute_result"
    }
   ],
   "source": [
    "top_dict"
   ]
  },
  {
   "cell_type": "markdown",
   "metadata": {},
   "source": [
    "## making pipeline function"
   ]
  },
  {
   "cell_type": "code",
   "execution_count": 136,
   "metadata": {},
   "outputs": [],
   "source": [
    "def pipe_fun(path,scaler_transformed,model_sgd):\n",
    "    # read the image\n",
    "    image = skimage.io.imread(path)\n",
    "    # making transformation\n",
    "    image_resized = skimage.transform.resize(image,(80,80))\n",
    "    # rescaling\n",
    "    rescaled_image = 255*image_resized\n",
    "    image_transformed = rescaled_image.astype(np.uint8) # converting to 8 bit integer\n",
    "    # graify\n",
    "    gray = skimage.color.rgb2gray(image_transformed) # can use custom function as well\n",
    "    # hog feature extraction\n",
    "    hog_feature_vector = skimage.feature.hog(gray,\n",
    "                                  orientations=10, pixels_per_cell=(8,8),cells_per_block=(3,3))\n",
    "    \n",
    "    #scaling\n",
    "    scaled = scaler_transformed.transform(hog_feature_vector.reshape(1,-1))\n",
    "    y_pred = model_sgd.predict(scaled)\n",
    "    # confidence score for each class\n",
    "    decision_value = model_sgd.decision_function(scaled)\n",
    "    decision_value=decision_value.flatten()\n",
    "    labels = model_sgd.classes_\n",
    "    # probabilty \n",
    "    z = scipy.stats.zscore(decision_value)\n",
    "    prob = scipy.special.softmax(z)\n",
    "    top_5_prob_index = prob.argsort()[::-1][:5]\n",
    "    top_5_prob_values = prob[top_5_prob_index]\n",
    "    #making dictionary\n",
    "    top_dict = dict()\n",
    "    for key,value in zip(top_labels,top_5_prob_values):\n",
    "        top_dict[key]=np.round(value,2)\n",
    "    \n",
    "    return top_dict"
   ]
  },
  {
   "cell_type": "code",
   "execution_count": 135,
   "metadata": {},
   "outputs": [
    {
     "data": {
      "text/plain": [
       "{'eagle': 0.21, 'pigeon': 0.18, 'duck': 0.1, 'panda': 0.08, 'cow': 0.07}"
      ]
     },
     "execution_count": 135,
     "metadata": {},
     "output_type": "execute_result"
    }
   ],
   "source": [
    "pipe_fun('eagle.jpg',scaler,model)"
   ]
  },
  {
   "cell_type": "code",
   "execution_count": null,
   "metadata": {},
   "outputs": [],
   "source": []
  }
 ],
 "metadata": {
  "kernelspec": {
   "display_name": "Python 3",
   "language": "python",
   "name": "python3"
  },
  "language_info": {
   "codemirror_mode": {
    "name": "ipython",
    "version": 3
   },
   "file_extension": ".py",
   "mimetype": "text/x-python",
   "name": "python",
   "nbconvert_exporter": "python",
   "pygments_lexer": "ipython3",
   "version": "3.8.3"
  }
 },
 "nbformat": 4,
 "nbformat_minor": 4
}
